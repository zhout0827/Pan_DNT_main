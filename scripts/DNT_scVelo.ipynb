{
 "cells": [
  {
   "cell_type": "code",
   "execution_count": null,
   "id": "4b047eff",
   "metadata": {},
   "outputs": [],
   "source": [
    "import numpy as np\n",
    "import scrublet as scr\n",
    "import scanpy as sc\n",
    "import pandas as pd\n",
    "import seaborn as sns\n",
    "import matplotlib.pyplot as plt\n",
    "import glob\n",
    "import os\n",
    "from collections import Counter\n",
    "import anndata as ann\n",
    "import bbknn\n",
    "import cellrank as cr\n",
    "import scanpy as sc\n",
    "import scvelo as scv\n",
    "import loompy"
   ]
  },
  {
   "cell_type": "code",
   "execution_count": null,
   "id": "f1be0382",
   "metadata": {},
   "outputs": [],
   "source": [
    "sc.settings.verbosity = 3  # verbosity: errors (0), warnings (1), info (2), hints (3)\n",
    "sc.logging.print_header()"
   ]
  },
  {
   "cell_type": "code",
   "execution_count": null,
   "id": "1b5319a3",
   "metadata": {},
   "outputs": [],
   "source": [
    "loom_list = pd.read_csv('./loom/loom_list.csv')"
   ]
  },
  {
   "cell_type": "code",
   "execution_count": null,
   "id": "1e252e25",
   "metadata": {},
   "outputs": [],
   "source": [
    "loom_list = loom_list.iloc[:, 0].tolist()"
   ]
  },
  {
   "cell_type": "code",
   "execution_count": null,
   "id": "3041dc51",
   "metadata": {},
   "outputs": [],
   "source": [
    "loompy.combine(loom_list, output_file = 'DNT_combined.loom')"
   ]
  },
  {
   "cell_type": "code",
   "execution_count": null,
   "id": "28136739",
   "metadata": {},
   "outputs": [],
   "source": [
    "adata = scv.read_loom(\"./DNT_combined.loom\")"
   ]
  },
  {
   "cell_type": "code",
   "execution_count": null,
   "id": "e2871977",
   "metadata": {},
   "outputs": [],
   "source": [
    "adata"
   ]
  },
  {
   "cell_type": "code",
   "execution_count": null,
   "id": "e025e2b0",
   "metadata": {},
   "outputs": [],
   "source": [
    "adata.obs['barcodes'] = adata.obs.index.str.split(':').str[1]"
   ]
  },
  {
   "cell_type": "code",
   "execution_count": null,
   "id": "1c656901",
   "metadata": {},
   "outputs": [],
   "source": [
    "adata.obs['barcodes'] = adata.obs['barcodes'].str.replace('x$', '', regex=True)"
   ]
  },
  {
   "cell_type": "code",
   "execution_count": null,
   "id": "5fa47a67",
   "metadata": {},
   "outputs": [],
   "source": [
    "adata.obs['sample'] = adata.obs.index.str.split('_possorted').str[0]"
   ]
  },
  {
   "cell_type": "code",
   "execution_count": null,
   "id": "095452d0",
   "metadata": {},
   "outputs": [],
   "source": [
    "adata.obs['cellID'] = adata.obs['sample'] + '_' + adata.obs.barcodes"
   ]
  },
  {
   "cell_type": "code",
   "execution_count": null,
   "id": "cc1263ac",
   "metadata": {},
   "outputs": [],
   "source": [
    "adata_DNT = sc.read_h5ad(\"./RDS/pancancer_DNT_symbol_regress_leiden_drop_v7_.h5ad\")"
   ]
  },
  {
   "cell_type": "code",
   "execution_count": null,
   "id": "46aadbd5",
   "metadata": {},
   "outputs": [],
   "source": [
    "adata_DNT.obs"
   ]
  },
  {
   "cell_type": "code",
   "execution_count": null,
   "id": "c2dafdfd",
   "metadata": {},
   "outputs": [],
   "source": [
    "adata.obs = pd.merge(adata.obs, adata_DNT.obs, on='cellID', how='left', suffixes=('', '_DNT'))"
   ]
  },
  {
   "cell_type": "code",
   "execution_count": null,
   "id": "d83af9e7",
   "metadata": {},
   "outputs": [],
   "source": [
    "adata.obs = pd.merge(adata.obs, adata_DNT.obs, on='cellID', how='left', suffixes=('', '_DNT'))"
   ]
  },
  {
   "cell_type": "code",
   "execution_count": null,
   "id": "a7650488",
   "metadata": {},
   "outputs": [],
   "source": [
    "adata.obs.index = adata.obs.cellID"
   ]
  },
  {
   "cell_type": "code",
   "execution_count": null,
   "id": "fb02b56a",
   "metadata": {},
   "outputs": [],
   "source": [
    "adata_sample = adata_DNT[adata_DNT.obs.cellID.isin(adata.obs.index)]"
   ]
  },
  {
   "cell_type": "code",
   "execution_count": null,
   "id": "8918e5fd",
   "metadata": {},
   "outputs": [],
   "source": [
    "adata_sample.obs.index = adata_sample.obs.cellID"
   ]
  },
  {
   "cell_type": "code",
   "execution_count": null,
   "id": "2d77bde5",
   "metadata": {},
   "outputs": [],
   "source": [
    "adata_sample = adata_sample[adata.obs.index,:]"
   ]
  },
  {
   "cell_type": "code",
   "execution_count": null,
   "id": "47545af1",
   "metadata": {},
   "outputs": [],
   "source": [
    "adata.obsm['X_umap'] = adata_sample.obsm['X_umap']"
   ]
  },
  {
   "cell_type": "code",
   "execution_count": null,
   "id": "f87a1663",
   "metadata": {},
   "outputs": [],
   "source": [
    "adata.uns['DNT_C_colors'] = adata_sample.uns['DNT_C_colors']"
   ]
  },
  {
   "cell_type": "code",
   "execution_count": null,
   "id": "ca8f737c",
   "metadata": {},
   "outputs": [],
   "source": [
    "adata.var_names_make_unique()"
   ]
  },
  {
   "cell_type": "code",
   "execution_count": null,
   "id": "976a72a0",
   "metadata": {},
   "outputs": [],
   "source": [
    "common_genes = adata.var_names.intersection(adata_sample.var_names)"
   ]
  },
  {
   "cell_type": "code",
   "execution_count": null,
   "id": "c3014728",
   "metadata": {},
   "outputs": [],
   "source": [
    "adata = adata[:,adata.var_names.isin(common_genes)]"
   ]
  },
  {
   "cell_type": "code",
   "execution_count": null,
   "id": "a7608a05",
   "metadata": {},
   "outputs": [],
   "source": [
    "adata.write_h5ad(\"./h5ad/DNT_velocity_input.h5ad\")"
   ]
  },
  {
   "cell_type": "code",
   "execution_count": null,
   "id": "e25f0038",
   "metadata": {},
   "outputs": [],
   "source": [
    "scv.pp.filter_and_normalize(adata, min_shared_counts=30, min_shared_cells=30, log=True)"
   ]
  },
  {
   "cell_type": "code",
   "execution_count": null,
   "id": "42a357ad",
   "metadata": {},
   "outputs": [],
   "source": [
    "sc.tl.pca(adata)\n",
    "sc.pp.neighbors(adata, n_pcs=30, n_neighbors=30, random_state=0)\n",
    "scv.pp.moments(adata, n_pcs=None, n_neighbors=None)"
   ]
  },
  {
   "cell_type": "code",
   "execution_count": null,
   "id": "776baaaa",
   "metadata": {},
   "outputs": [],
   "source": [
    "scv.tl.recover_dynamics(adata,n_jobs=80)"
   ]
  },
  {
   "cell_type": "code",
   "execution_count": null,
   "id": "34be8c31",
   "metadata": {},
   "outputs": [],
   "source": [
    "scv.tl.velocity(adata, mode=\"dynamical\",min_r2=None)"
   ]
  },
  {
   "cell_type": "code",
   "execution_count": null,
   "id": "ed7f8151",
   "metadata": {},
   "outputs": [],
   "source": [
    "scv.tl.velocity_graph(adata)"
   ]
  },
  {
   "cell_type": "code",
   "execution_count": null,
   "id": "ee2d89f9",
   "metadata": {},
   "outputs": [],
   "source": [
    "scv.settings.set_figure_params('scvelo', dpi=300)\n",
    "scv.pl.velocity_embedding_stream(adata, basis='umap',color='DNT_C',smooth=0.8, min_mass=2.5,\n",
    "                                 legend_loc='right margin',legend_fontsize=5,\n",
    "                                 save=\"DNT_stream.pdf\", figsize=(5,5))"
   ]
  },
  {
   "cell_type": "code",
   "execution_count": null,
   "id": "0a291e9c",
   "metadata": {},
   "outputs": [],
   "source": [
    "abT = adata[adata.obs.DNT_C.isin(['T1_RGS1+CREM+','T2_LEF1+CCR7+','T3_CD40LG+CCR6+','T4_CXCL13+PDCD1+','T5_FOXP3+IL2RA+','T6_CXCL1+CXCL8+'])]"
   ]
  },
  {
   "cell_type": "code",
   "execution_count": null,
   "id": "ec40ca0b",
   "metadata": {},
   "outputs": [],
   "source": [
    "gdT = adata[~adata.obs.DNT_C.isin(['T1_RGS1+CREM+','T2_LEF1+CCR7+','T3_CD40LG+CCR6+','T4_CXCL13+PDCD1+','T5_FOXP3+IL2RA+','T6_CXCL1+CXCL8+'])]"
   ]
  },
  {
   "cell_type": "code",
   "execution_count": null,
   "id": "9be863fb",
   "metadata": {},
   "outputs": [],
   "source": [
    "abT.var_names_make_unique()\n",
    "gdT.var_names_make_unique()"
   ]
  },
  {
   "cell_type": "code",
   "execution_count": null,
   "id": "5ef14346",
   "metadata": {},
   "outputs": [],
   "source": [
    "scv.pp.filter_and_normalize(abT, min_shared_counts=30, min_shared_cells=30, log=True)\n",
    "scv.pp.filter_and_normalize(gdT, min_shared_counts=30, min_shared_cells=30, log=True)"
   ]
  },
  {
   "cell_type": "code",
   "execution_count": null,
   "id": "1b03dd5f",
   "metadata": {},
   "outputs": [],
   "source": [
    "sc.tl.pca(abT)\n",
    "sc.pp.neighbors(abT, n_pcs=30, n_neighbors=30, random_state=0)\n",
    "scv.pp.moments(abT, n_pcs=None, n_neighbors=None)"
   ]
  },
  {
   "cell_type": "code",
   "execution_count": null,
   "id": "bf70e83d",
   "metadata": {},
   "outputs": [],
   "source": [
    "sc.tl.pca(gdT)\n",
    "sc.pp.neighbors(gdT, n_pcs=30, n_neighbors=30, random_state=0)\n",
    "scv.pp.moments(gdT, n_pcs=None, n_neighbors=None)"
   ]
  },
  {
   "cell_type": "code",
   "execution_count": null,
   "id": "b9457541",
   "metadata": {},
   "outputs": [],
   "source": [
    "scv.tl.recover_dynamics(abT, n_jobs=80)\n",
    "scv.tl.recover_dynamics(gdT, n_jobs=80)\n",
    "scv.tl.velocity(abT, mode=\"dynamical\")\n",
    "scv.tl.velocity(gdT, mode=\"dynamical\")\n",
    "scv.tl.velocity_graph(abT)\n",
    "scv.tl.velocity_graph(gdT)"
   ]
  },
  {
   "cell_type": "code",
   "execution_count": null,
   "id": "629bffff",
   "metadata": {},
   "outputs": [],
   "source": [
    "scv.settings.set_figure_params('scvelo', dpi=300)\n",
    "scv.pl.velocity_embedding_stream(abT, basis='umap',color='DNT_C',smooth=0.8, min_mass=2.5,\n",
    "                                 legend_loc='right margin',legend_fontsize=5,\n",
    "                                 save=\"abT_stream.png\", figsize=(5,5))"
   ]
  },
  {
   "cell_type": "code",
   "execution_count": null,
   "id": "d9f9b299",
   "metadata": {},
   "outputs": [],
   "source": [
    "scv.settings.set_figure_params('scvelo', dpi=300)\n",
    "scv.pl.velocity_embedding_stream(gdT, basis='umap',color='DNT_C',smooth=0.8, min_mass=2.5,\n",
    "                                 legend_loc='right margin',legend_fontsize=5,\n",
    "                                 save=\"gdT_stream.png\", figsize=(5,5))"
   ]
  }
 ],
 "metadata": {
  "kernelspec": {
   "display_name": "Python [conda env:scanpy]",
   "language": "python",
   "name": "conda-env-scanpy-py"
  },
  "language_info": {
   "codemirror_mode": {
    "name": "ipython",
    "version": 3
   },
   "file_extension": ".py",
   "mimetype": "text/x-python",
   "name": "python",
   "nbconvert_exporter": "python",
   "pygments_lexer": "ipython3",
   "version": "3.9.18"
  }
 },
 "nbformat": 4,
 "nbformat_minor": 5
}
