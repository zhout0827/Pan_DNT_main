{
 "cells": [
  {
   "cell_type": "code",
   "execution_count": null,
   "id": "1dafdccb",
   "metadata": {},
   "outputs": [],
   "source": [
    "import sctour as sct\n",
    "import scanpy as sc\n",
    "import numpy as np\n",
    "import pandas as pd\n",
    "import matplotlib.pyplot as plt"
   ]
  },
  {
   "cell_type": "code",
   "execution_count": null,
   "id": "5878ed6d",
   "metadata": {},
   "outputs": [],
   "source": [
    "adata = sc.read('Pancancer_T/h5ad/T11.h5ad')"
   ]
  },
  {
   "cell_type": "code",
   "execution_count": null,
   "id": "9e2ea62f",
   "metadata": {},
   "outputs": [],
   "source": [
    "adata.X = adata.layers['counts']"
   ]
  },
  {
   "cell_type": "code",
   "execution_count": null,
   "id": "9bc764f3",
   "metadata": {},
   "outputs": [],
   "source": [
    "sc.pp.calculate_qc_metrics(adata, percent_top=None, log1p=False, inplace=True)"
   ]
  },
  {
   "cell_type": "code",
   "execution_count": null,
   "id": "a35bf430",
   "metadata": {},
   "outputs": [],
   "source": [
    "sc.pp.highly_variable_genes(adata, n_top_genes=1000, subset=True)"
   ]
  },
  {
   "cell_type": "code",
   "execution_count": null,
   "id": "cd3ad6d6",
   "metadata": {},
   "outputs": [],
   "source": [
    "tnode = sct.train.Trainer(adata, loss_mode='nb', alpha_recon_lec=0.5, alpha_recon_lode=0.5)\n",
    "tnode.train()"
   ]
  },
  {
   "cell_type": "code",
   "execution_count": null,
   "id": "674cac88",
   "metadata": {},
   "outputs": [],
   "source": [
    "adata.obs['ptime'] = tnode.get_time()"
   ]
  },
  {
   "cell_type": "code",
   "execution_count": null,
   "id": "d8f0cdce",
   "metadata": {},
   "outputs": [],
   "source": [
    "#zs represents the latent z from variational inference, and pred_zs represents the latent z from ODE solver\n",
    "#mix_zs represents the weighted combination of the two, which is used for downstream analysis\n",
    "mix_zs, zs, pred_zs = tnode.get_latentsp(alpha_z=0.5, alpha_predz=0.5)\n",
    "adata.obsm['X_TNODE'] = mix_zs"
   ]
  },
  {
   "cell_type": "code",
   "execution_count": null,
   "id": "a08f147d",
   "metadata": {},
   "outputs": [],
   "source": [
    "adata.obsm['X_VF'] = tnode.get_vector_field(adata.obs['ptime'].values, adata.obsm['X_TNODE'])"
   ]
  },
  {
   "cell_type": "code",
   "execution_count": null,
   "id": "cd51f643",
   "metadata": {},
   "outputs": [],
   "source": [
    "fig, axs = plt.subplots(ncols=2, nrows=2, figsize=(10, 10))\n",
    "sc.pl.umap(adata, color='T11_type', ax=axs[0, 0],  palette={\"Grm1\": \"#63B4C1\", \"Grm2\": \"#5072AC\"},legend_loc='on data', show=False, frameon=False)\n",
    "sc.pl.umap(adata, color='ptime', ax=axs[1, 0], show=False, frameon=False)\n",
    "sct.vf.plot_vector_field(adata, zs_key='X_TNODE', vf_key='X_VF', use_rep_neigh='X_TNODE', color='T11_type', \n",
    "                          palette={\"Grm1\": \"#63B4C1\", \"Grm2\": \"#5072AC\"},\n",
    "                         show=False, ax=axs[1, 1], legend_loc='none', frameon=False, size=100, alpha=0.7)\n",
    "plt.show()"
   ]
  },
  {
   "cell_type": "code",
   "execution_count": null,
   "id": "74b6dc10",
   "metadata": {},
   "outputs": [],
   "source": [
    "sct.vf.plot_vector_field(adata, zs_key='X_TNODE', vf_key='X_VF', use_rep_neigh='X_TNODE', color='T11_type', \n",
    "                         # show=False, \n",
    "                         # legend_loc='on_data',\n",
    "                         frameon=False,\n",
    "                         size=250, alpha = 0.8,\n",
    "                         stream_density = 1.8,\n",
    "                         smooth = 1,\n",
    "                         stream_linewidth = 1.5,\n",
    "                         stream_arrowsize = 1.5,\n",
    "                         save = True\n",
    "                        )"
   ]
  }
 ],
 "metadata": {
  "kernelspec": {
   "display_name": "Python [conda env:scanpy]",
   "language": "python",
   "name": "conda-env-scanpy-py"
  },
  "language_info": {
   "codemirror_mode": {
    "name": "ipython",
    "version": 3
   },
   "file_extension": ".py",
   "mimetype": "text/x-python",
   "name": "python",
   "nbconvert_exporter": "python",
   "pygments_lexer": "ipython3",
   "version": "3.9.18"
  }
 },
 "nbformat": 4,
 "nbformat_minor": 5
}
