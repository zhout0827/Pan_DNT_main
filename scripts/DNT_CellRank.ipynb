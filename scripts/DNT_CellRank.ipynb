{
 "cells": [
  {
   "cell_type": "code",
   "execution_count": null,
   "id": "99e90404",
   "metadata": {},
   "outputs": [],
   "source": [
    "import numpy as np\n",
    "import scrublet as scr\n",
    "import scanpy as sc\n",
    "import pandas as pd\n",
    "import seaborn as sns\n",
    "import matplotlib.pyplot as plt\n",
    "import glob\n",
    "import os\n",
    "from collections import Counter\n",
    "import anndata as ann\n",
    "import bbknn\n",
    "import cellrank as cr\n",
    "import scanpy as sc\n",
    "import scvelo as scv\n",
    "import loompy"
   ]
  },
  {
   "cell_type": "code",
   "execution_count": null,
   "id": "843e4c88",
   "metadata": {},
   "outputs": [],
   "source": [
    "sc.settings.verbosity = 3  # verbosity: errors (0), warnings (1), info (2), hints (3)\n",
    "sc.logging.print_header()\n",
    "scv.settings.verbosity = 3\n",
    "scv.settings.set_figure_params(\"scvelo\")\n",
    "cr.settings.verbosity = 2"
   ]
  },
  {
   "cell_type": "code",
   "execution_count": null,
   "id": "78315273",
   "metadata": {},
   "outputs": [],
   "source": [
    "adata = sc.read_h5ad(\"./h5ad/DNT_velocity_input.h5ad\")"
   ]
  },
  {
   "cell_type": "code",
   "execution_count": null,
   "id": "a5d38fe1",
   "metadata": {},
   "outputs": [],
   "source": [
    "scv.pp.filter_and_normalize(adata, min_shared_counts=30, min_shared_cells=30, log=True)\n",
    "sc.tl.pca(adata)\n",
    "sc.pp.neighbors(adata, n_pcs=30, n_neighbors=30, random_state=0)\n",
    "scv.pp.moments(adata, n_pcs=None, n_neighbors=None)"
   ]
  },
  {
   "cell_type": "code",
   "execution_count": null,
   "id": "5aa11cfc",
   "metadata": {},
   "outputs": [],
   "source": [
    "scv.tl.recover_dynamics(adata, n_jobs=80)"
   ]
  },
  {
   "cell_type": "code",
   "execution_count": null,
   "id": "ea3bef3f",
   "metadata": {},
   "outputs": [],
   "source": [
    "scv.tl.velocity(adata, mode=\"dynamical\",min_r2=None)"
   ]
  },
  {
   "cell_type": "code",
   "execution_count": null,
   "id": "5eb49253",
   "metadata": {},
   "outputs": [],
   "source": [
    "vk = cr.kernels.VelocityKernel(adata)"
   ]
  },
  {
   "cell_type": "code",
   "execution_count": null,
   "id": "8a313812",
   "metadata": {},
   "outputs": [],
   "source": [
    "vk.compute_transition_matrix()"
   ]
  },
  {
   "cell_type": "code",
   "execution_count": null,
   "id": "8fe93196",
   "metadata": {},
   "outputs": [],
   "source": [
    "ck = cr.kernels.ConnectivityKernel(adata)\n",
    "ck.compute_transition_matrix()\n",
    "\n",
    "combined_kernel = 0.8 * vk + 0.2 * ck"
   ]
  },
  {
   "cell_type": "code",
   "execution_count": null,
   "id": "5cadba7b",
   "metadata": {},
   "outputs": [],
   "source": [
    "print(combined_kernel)"
   ]
  },
  {
   "cell_type": "code",
   "execution_count": null,
   "id": "21ce4123",
   "metadata": {},
   "outputs": [],
   "source": [
    "vk.plot_projection()"
   ]
  },
  {
   "cell_type": "code",
   "execution_count": null,
   "id": "e70bb966",
   "metadata": {},
   "outputs": [],
   "source": [
    "scv.settings.set_figure_params('cellrank', dpi=300)\n",
    "vk.plot_projection(basis='umap',color='DNT_C',\n",
    "                                 legend_loc='right margin',legend_fontsize=5,smooth=0.8, min_mass=2.5,\n",
    "                                 save=\"DNT_cellrank_stream.pdf\", figsize=(5,5))"
   ]
  }
 ],
 "metadata": {
  "kernelspec": {
   "display_name": "Python [conda env:scanpy]",
   "language": "python",
   "name": "conda-env-scanpy-py"
  },
  "language_info": {
   "codemirror_mode": {
    "name": "ipython",
    "version": 3
   },
   "file_extension": ".py",
   "mimetype": "text/x-python",
   "name": "python",
   "nbconvert_exporter": "python",
   "pygments_lexer": "ipython3",
   "version": "3.9.18"
  }
 },
 "nbformat": 4,
 "nbformat_minor": 5
}
