{
 "cells": [
  {
   "cell_type": "code",
   "execution_count": null,
   "metadata": {},
   "outputs": [],
   "source": [
    "import liana as li\n",
    "import scanpy as sc"
   ]
  },
  {
   "cell_type": "code",
   "execution_count": null,
   "metadata": {},
   "outputs": [],
   "source": [
    "adata = sc.read_h5ad(\"Pancancer_T/h5ad/123_Epi_DNT_T11_T_M_counts.h5ad\")"
   ]
  },
  {
   "cell_type": "code",
   "execution_count": null,
   "metadata": {},
   "outputs": [],
   "source": [
    "sc.pp.normalize_total(adata, target_sum=1e4)\n",
    "sc.pp.log1p(adata)"
   ]
  },
  {
   "cell_type": "code",
   "execution_count": null,
   "metadata": {},
   "outputs": [],
   "source": [
    "li.mt.show_methods()"
   ]
  },
  {
   "cell_type": "code",
   "execution_count": null,
   "metadata": {},
   "outputs": [],
   "source": [
    "from liana.mt import rank_aggregate\n",
    "from liana.method import singlecellsignalr, connectome, cellphonedb, natmi, logfc, cellchat, geometric_mean"
   ]
  },
  {
   "cell_type": "code",
   "execution_count": null,
   "metadata": {},
   "outputs": [],
   "source": [
    "# run cellphonedb\n",
    "cellphonedb(adata,\n",
    "            groupby='cell_type',\n",
    "            use_raw = False,\n",
    "            # NOTE by default the resource uses HUMAN gene symbols\n",
    "            resource_name='consensus',\n",
    "            expr_prop=0.1,\n",
    "            verbose=True, key_added='cpdb_res')"
   ]
  },
  {
   "cell_type": "code",
   "execution_count": null,
   "metadata": {},
   "outputs": [],
   "source": [
    "adata.uns['cpdb_res'].head()"
   ]
  },
  {
   "cell_type": "code",
   "execution_count": null,
   "metadata": {},
   "outputs": [],
   "source": [
    "li.pl.dotplot(adata = adata,\n",
    "              colour='lr_means',\n",
    "              size='cellphone_pvals',\n",
    "              inverse_size=True, # we inverse sign since we want small p-values to have large sizes\n",
    "              source_labels=['T14_HLA-DR_'],\n",
    "              target_labels=['CD8_Trm', 'CD8_Tex','CD4_Tex','CD4_Treg'],\n",
    "              figure_size=(8, 15),\n",
    "              # finally, since cpdbv2 suggests using a filter to FPs\n",
    "              # we filter the pvals column to <= 0.05\n",
    "              filter_fun=lambda x: x['cellphone_pvals'] <= 0.05,\n",
    "              uns_key='cpdb_res' # uns_key to use, default is 'liana_res'\n",
    "             )"
   ]
  },
  {
   "cell_type": "code",
   "execution_count": null,
   "metadata": {},
   "outputs": [],
   "source": [
    "cellchat(adata,groupby='cell_type',\n",
    "            use_raw = False,\n",
    "            # NOTE by default the resource uses HUMAN gene symbols\n",
    "            resource_name='consensus',\n",
    "            expr_prop=0.1,\n",
    "            verbose=True, \n",
    "             key_added='cpdb_res')"
   ]
  },
  {
   "cell_type": "code",
   "execution_count": null,
   "metadata": {},
   "outputs": [],
   "source": [
    "adata.uns['cpdb_res'].to_csv(\"./DNT_cpdb_res.tsv\",sep=\"\\t\")"
   ]
  }
 ],
 "metadata": {
  "language_info": {
   "name": "python"
  }
 },
 "nbformat": 4,
 "nbformat_minor": 2
}
