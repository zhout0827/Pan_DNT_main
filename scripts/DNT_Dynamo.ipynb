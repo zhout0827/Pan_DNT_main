{
 "cells": [
  {
   "cell_type": "code",
   "execution_count": null,
   "id": "dac6d784",
   "metadata": {},
   "outputs": [],
   "source": [
    "import numpy as np\n",
    "import scrublet as scr\n",
    "import scanpy as sc\n",
    "import pandas as pd\n",
    "import seaborn as sns\n",
    "import matplotlib.pyplot as plt\n",
    "import glob\n",
    "import os\n",
    "from collections import Counter\n",
    "import anndata as ann\n",
    "import bbknn\n",
    "import cellrank as cr\n",
    "import scanpy as sc\n",
    "import scvelo as scv\n",
    "import loompy\n",
    "import dynamo as dyn\n",
    "dyn.session_info()"
   ]
  },
  {
   "cell_type": "code",
   "execution_count": null,
   "id": "64c41931",
   "metadata": {},
   "outputs": [],
   "source": [
    "sc.settings.verbosity = 3  # verbosity: errors (0), warnings (1), info (2), hints (3)\n",
    "sc.logging.print_header()\n",
    "scv.settings.verbosity = 3\n",
    "scv.settings.set_figure_params(\"scvelo\")\n",
    "cr.settings.verbosity = 2"
   ]
  },
  {
   "cell_type": "code",
   "execution_count": null,
   "id": "d5867083",
   "metadata": {},
   "outputs": [],
   "source": [
    "adata = sc.read_h5ad(\"./h5ad/DNT_velocity_input.h5ad\")"
   ]
  },
  {
   "cell_type": "code",
   "execution_count": null,
   "id": "268b4f31",
   "metadata": {},
   "outputs": [],
   "source": [
    "preprocessor = dyn.pp.Preprocessor(cell_cycle_score_enable=True)\n",
    "preprocessor.config_monocle_recipe(adata)\n",
    "preprocessor.filter_cells_by_outliers_kwargs[\"keep_filtered\"] = False\n",
    "preprocessor.filter_genes_by_outliers_kwargs[\"inplace\"] = True\n",
    "preprocessor.preprocess_adata_monocle(adata)"
   ]
  },
  {
   "cell_type": "code",
   "execution_count": null,
   "id": "4b4b9547",
   "metadata": {},
   "outputs": [],
   "source": [
    "dyn.tl.dynamics(adata, model='stochastic', cores=48)"
   ]
  },
  {
   "cell_type": "code",
   "execution_count": null,
   "id": "431c75cc",
   "metadata": {},
   "outputs": [],
   "source": [
    "dyn.tl.reduceDimension(adata)"
   ]
  },
  {
   "cell_type": "code",
   "execution_count": null,
   "id": "ee68116b",
   "metadata": {},
   "outputs": [],
   "source": [
    "dyn.pl.umap(adata, color='DNT_C')"
   ]
  },
  {
   "cell_type": "code",
   "execution_count": null,
   "id": "abe9a66e",
   "metadata": {},
   "outputs": [],
   "source": [
    "dyn.tl.cell_velocities(adata, \n",
    "                       method='pearson', \n",
    "                       other_kernels_dict={'transform': 'sqrt'})"
   ]
  },
  {
   "cell_type": "code",
   "execution_count": null,
   "id": "db807de4",
   "metadata": {},
   "outputs": [],
   "source": [
    "dyn.tl.cell_wise_confidence(adata)"
   ]
  },
  {
   "cell_type": "code",
   "execution_count": null,
   "id": "faecba82",
   "metadata": {},
   "outputs": [],
   "source": [
    "dyn.vf.VectorField(adata, basis='umap', M=1000, pot_curl_div=True)"
   ]
  },
  {
   "cell_type": "code",
   "execution_count": null,
   "id": "49e2fb34",
   "metadata": {},
   "outputs": [],
   "source": [
    "dyn.pl.plot_energy(adata, basis='umap')"
   ]
  },
  {
   "cell_type": "code",
   "execution_count": null,
   "id": "18c52ab6",
   "metadata": {},
   "outputs": [],
   "source": [
    "dyn.pl.streamline_plot(adata, color=['DNT_C'], \n",
    "                       # basis='diffmap_', \n",
    "                       basis='umap', \n",
    "                       color_key = {\n",
    "             'T4_CXCL13+PDCD1+': '#f0b98d',\n",
    "             'T5_FOXP3+IL2RA+': '#ef9708',\n",
    "             'T2_LEF1+CCR7+': '#E17B84',\n",
    "             'T6_CXCL1+CXCL8+': '#b5bbe3',\n",
    "             'T1_RGS1+CREM+': '#d33f6a',\n",
    "             'T3_CD40LG+CCR6+': '#8dd593',\n",
    "\n",
    "            'T8_IFNG+': '#023fa5',\n",
    "             'T12_TRDV2+': '#BFC1D3', \n",
    "             'T7_PTGDS+': '#4a6fe3',\n",
    "             'T9_CX3CR1+': '#c6dec7',\n",
    "             'T13_TRDV1+': '#AC9EA0',\n",
    "             'T11_ITGA1+': '#BEF197',\n",
    "             'T14_HLA-DR+': '#00c0b9',\n",
    "             'T10_GZMK+': '#9cded6',\n",
    "            },\n",
    "           show_arrowed_spines=True,\n",
    "            # xy_grid_nums=(100,100),\n",
    "            xy_grid_nums=(60,60),\n",
    "            # xy_grid_nums=(90,90),\n",
    "            method = 'gaussian',\n",
    "            # method = 'SparseVFC',\n",
    "            # density=1.1,\n",
    "            # linewidth = 0.9,\n",
    "            density=0.8,\n",
    "            linewidth = 1.1, \n",
    "            # streamline_alpha = 0.9,\n",
    "            show_legend=None,\n",
    "           # show_legend='on data',\n",
    "           # save_show_or_return = \"save\",\n",
    "           #  save_kwargs = {\"path\": None, \"prefix\": \"streamline_plot\", \"dpi\": None, \"ext\": \"png\", \"transparent\": True, \"close\": True, \"verbose\": True},\n",
    "           )"
   ]
  }
 ],
 "metadata": {
  "kernelspec": {
   "display_name": "Python [conda env:scanpy]",
   "language": "python",
   "name": "conda-env-scanpy-py"
  },
  "language_info": {
   "codemirror_mode": {
    "name": "ipython",
    "version": 3
   },
   "file_extension": ".py",
   "mimetype": "text/x-python",
   "name": "python",
   "nbconvert_exporter": "python",
   "pygments_lexer": "ipython3",
   "version": "3.9.18"
  }
 },
 "nbformat": 4,
 "nbformat_minor": 5
}
